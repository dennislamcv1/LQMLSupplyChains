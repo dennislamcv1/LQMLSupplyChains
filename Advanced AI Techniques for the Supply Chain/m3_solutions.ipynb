{
 "cells": [
  {
   "cell_type": "code",
   "execution_count": 1,
   "metadata": {},
   "outputs": [
    {
     "data": {
      "text/plain": [
       "\"\\nStep 1: Load Data and Data Exploration\\n\\nWe'll be using the pre-labeled MNIST dataset, which contains 70,000 grayscale images of handwritten digits,\\nalong with their corresponding digit labels.\\n\\nSince we want our model to be able to perform well in the real world on previously unseen data,\\nwe'll only train it on 60,000 images, and then evaluate our model on the remaining 10,000.\\n\\n\""
      ]
     },
     "execution_count": 1,
     "metadata": {},
     "output_type": "execute_result"
    }
   ],
   "source": [
    "'''\n",
    "Step 1: Load Data and Data Exploration\n",
    "\n",
    "We'll be using the pre-labeled MNIST dataset, which contains 70,000 grayscale images of handwritten digits,\n",
    "along with their corresponding digit labels.\n",
    "\n",
    "Since we want our model to be able to perform well in the real world on previously unseen data,\n",
    "we'll only train it on 60,000 images, and then evaluate our model on the remaining 10,000.\n",
    "\n",
    "'''"
   ]
  },
  {
   "cell_type": "code",
   "execution_count": 2,
   "metadata": {},
   "outputs": [
    {
     "name": "stdout",
     "output_type": "stream",
     "text": [
      "Downloading data from https://storage.googleapis.com/tensorflow/tf-keras-datasets/mnist.npz\n",
      "11493376/11490434 [==============================] - 1s 0us/step\n",
      "11501568/11490434 [==============================] - 1s 0us/step\n"
     ]
    }
   ],
   "source": [
    "import pandas as pd\n",
    "import numpy as np\n",
    "from tensorflow.keras.datasets import mnist\n",
    "\n",
    "# Import MNIST Dataset from Keras\n",
    "\n",
    "(X_train, y_train), (X_test, y_test) = mnist.load_data()"
   ]
  },
  {
   "cell_type": "code",
   "execution_count": 3,
   "metadata": {},
   "outputs": [
    {
     "name": "stdout",
     "output_type": "stream",
     "text": [
      "Number of training examples: 60000\n",
      "Number of testing examples: 10000\n"
     ]
    }
   ],
   "source": [
    "### Part A (10 PTS)\n",
    "\n",
    "# How many training and testing examples are there. \n",
    "# Store the number of training examples in a variable called num_train. \n",
    "# Store the number of testing examples in a variable called num_test.\n",
    "\n",
    "num_train = len(X_train)\n",
    "num_test = len(X_test)\n",
    "\n",
    "print(\"Number of training examples:\", num_train)\n",
    "print(\"Number of testing examples:\", num_test)"
   ]
  },
  {
   "cell_type": "code",
   "execution_count": 4,
   "metadata": {},
   "outputs": [
    {
     "name": "stdout",
     "output_type": "stream",
     "text": [
      "Shape of one example: (28, 28)\n",
      "Labels:  [5 0 4 ... 5 6 8]\n"
     ]
    }
   ],
   "source": [
    "# What features are given for each example? (Answer: 28 x 28 pixel image)\n",
    "print(\"Shape of one example: \" + str(X_train[0].shape)) \n",
    "\n",
    "# What do our labels look like? (Answer: 0-9 digit corresponding to image)\n",
    "print(\"Labels: \", y_train)"
   ]
  },
  {
   "cell_type": "code",
   "execution_count": 5,
   "metadata": {},
   "outputs": [
    {
     "name": "stdout",
     "output_type": "stream",
     "text": [
      "5\n"
     ]
    },
    {
     "data": {
      "image/png": "[encoded data removed]",
      "text/plain": [
       "<Figure size 432x288 with 1 Axes>"
      ]
     },
     "metadata": {
      "needs_background": "light"
     },
     "output_type": "display_data"
    }
   ],
   "source": [
    "# Data Visualization\n",
    "import matplotlib.pyplot as plt\n",
    "%matplotlib inline\n",
    "\n",
    "# Change this number and re-run the cell to see different image samples!\n",
    "sample_num = 0\n",
    "\n",
    "plt.imshow(X_train[sample_num], cmap=plt.get_cmap('gray'))\n",
    "print(y_train[sample_num])\n",
    "plt.show()"
   ]
  },
  {
   "cell_type": "code",
   "execution_count": 6,
   "metadata": {},
   "outputs": [
    {
     "data": {
      "text/plain": [
       "'\\nStep 2: Data Preprocessing\\n\\nFlatten the 28 x 28 2D images into 784-dimensional column vectors. Each pixel will then correspond to one neuron in\\nthe 784-dimensional input layer of our neural network. Normalize the pixel values from 0-255 to 0-1. We can do this\\nby simply dividing each of the 0-255 greyscale values by 255. Neural networks typically like to work with smaller values,\\nso this normalization is a pretty common first step in most deep learning tasks. Categorize the outputs into\\n10-dimensional \"one-hot\" vectors. The MNIST dataset originally contains actual numerical labels for each image\\n(e.g. 1, 2, ...), but remember that our neural network outputs 10 distinct values (one for each digit) -- not just\\nthe digit number itself. We want our training labels to match up with our neural network output. These categorized\\nvectors contain all 0\\'s, except a 1 in the location indicating which digit the image corresponds to.\\n'"
      ]
     },
     "execution_count": 6,
     "metadata": {},
     "output_type": "execute_result"
    }
   ],
   "source": [
    "'''\n",
    "Step 2: Data Preprocessing\n",
    "\n",
    "Flatten the 28 x 28 2D images into 784-dimensional column vectors. Each pixel will then correspond to one neuron in\n",
    "the 784-dimensional input layer of our neural network. Normalize the pixel values from 0-255 to 0-1. We can do this\n",
    "by simply dividing each of the 0-255 greyscale values by 255. Neural networks typically like to work with smaller values,\n",
    "so this normalization is a pretty common first step in most deep learning tasks. Categorize the outputs into\n",
    "10-dimensional \"one-hot\" vectors. The MNIST dataset originally contains actual numerical labels for each image\n",
    "(e.g. 1, 2, ...), but remember that our neural network outputs 10 distinct values (one for each digit) -- not just\n",
    "the digit number itself. We want our training labels to match up with our neural network output. These categorized\n",
    "vectors contain all 0's, except a 1 in the location indicating which digit the image corresponds to.\n",
    "'''"
   ]
  },
  {
   "cell_type": "code",
   "execution_count": 7,
   "metadata": {},
   "outputs": [],
   "source": [
    "###  Part B (10 pts)\n",
    "\n",
    "# Find the number of total pixels in each image.\n",
    "# Store the result in a variable called 'num_pixels'.\n",
    "\n",
    "num_pixels = X_train.shape[1] * X_train.shape[2] # 28 * 28 = 784"
   ]
  },
  {
   "cell_type": "code",
   "execution_count": 8,
   "metadata": {},
   "outputs": [],
   "source": [
    "### Part C (15 pts)\n",
    "\n",
    "\n",
    "# We need to flatten 28*28 images to a 784 vector for each image\n",
    "# Store the flattened train set into a variable called 'X_train_flattened'.\n",
    "# Store the flattened test set into a variable called 'X_test_flattened'.\n",
    "\n",
    "X_train_flattened = X_train.reshape(X_train.shape[0], num_pixels).astype('float32') # new shape: 60,000 x 784\n",
    "X_test_flattened = X_test.reshape(X_test.shape[0], num_pixels).astype('float32') # new shape: 10,000 x 784"
   ]
  },
  {
   "cell_type": "code",
   "execution_count": 9,
   "metadata": {},
   "outputs": [],
   "source": [
    "### Part D (10 pts)\n",
    "\n",
    "# Normalize pixel values to between 0-1.\n",
    "# Keep the data stored in X_train_flattened and X_tst flattened.\n",
    "\n",
    "X_train_flattened = X_train_flattened / 255.\n",
    "X_test_flattened = X_test_flattened / 255"
   ]
  },
  {
   "cell_type": "code",
   "execution_count": 10,
   "metadata": {},
   "outputs": [
    {
     "name": "stdout",
     "output_type": "stream",
     "text": [
      "5 [0. 0. 0. 0. 0. 1. 0. 0. 0. 0.]\n"
     ]
    }
   ],
   "source": [
    "# Categorize the outputs (\"one-hot\" vectors)\n",
    "import tensorflow as tf\n",
    "\n",
    "y_train_categorical = tf.keras.utils.to_categorical(y_train, num_classes=10)\n",
    "y_test_categorical = tf.keras.utils.to_categorical(y_test, num_classes=10)\n",
    "\n",
    "# What does the first label look like after one-hot encoding?\n",
    "print(y_train[0], y_train_categorical[0])"
   ]
  },
  {
   "cell_type": "code",
   "execution_count": 11,
   "metadata": {},
   "outputs": [
    {
     "data": {
      "text/plain": [
       "'\\nStep 3: Create Neural Network Model\\n\\nInitialize the network, add desired layers. The settings we decide to use, e.g. number of layers, number of\\nneurons per layer, are called hyperparameters, and have to be tuned by hand, rather than learned via gradient descent.\\nCompile the network to get ready for training. This tells the network what cost/loss function to use\\n(\"cost\" and \"loss\" are used interchangeably), and what type of gradient descent to use. Training the network,\\nusing the training images. This actually feeds the training data into the network, and uses gradient descent\\nand backpropagation to adjust the network\\'s weights in order to minimize the cost function.\\n'"
      ]
     },
     "execution_count": 11,
     "metadata": {},
     "output_type": "execute_result"
    }
   ],
   "source": [
    "'''\n",
    "Step 3: Create Neural Network Model\n",
    "\n",
    "Initialize the network, add desired layers. The settings we decide to use, e.g. number of layers, number of\n",
    "neurons per layer, are called hyperparameters, and have to be tuned by hand, rather than learned via gradient descent.\n",
    "Compile the network to get ready for training. This tells the network what cost/loss function to use\n",
    "(\"cost\" and \"loss\" are used interchangeably), and what type of gradient descent to use. Training the network,\n",
    "using the training images. This actually feeds the training data into the network, and uses gradient descent\n",
    "and backpropagation to adjust the network's weights in order to minimize the cost function.\n",
    "'''"
   ]
  },
  {
   "cell_type": "code",
   "execution_count": 12,
   "metadata": {},
   "outputs": [
    {
     "name": "stdout",
     "output_type": "stream",
     "text": [
      "Model: \"sequential\"\n",
      "_________________________________________________________________\n",
      " Layer (type)                Output Shape              Param #   \n",
      "=================================================================\n",
      " dense (Dense)               (None, 64)                50240     \n",
      "                                                                 \n",
      " dense_1 (Dense)             (None, 32)                2080      \n",
      "                                                                 \n",
      " dense_2 (Dense)             (None, 10)                330       \n",
      "                                                                 \n",
      "=================================================================\n",
      "Total params: 52,650\n",
      "Trainable params: 52,650\n",
      "Non-trainable params: 0\n",
      "_________________________________________________________________\n"
     ]
    }
   ],
   "source": [
    "### Part E (25 pts)\n",
    "\n",
    "# 1 -- Network Initialization\n",
    "from tensorflow.keras.models import Sequential\n",
    "from tensorflow.keras.layers import Dense\n",
    "\n",
    "# Initialize a simple sequential neural network model\n",
    "model = Sequential()\n",
    "\n",
    "### Add the following layers to 'model'.\n",
    "# Hidden layer 1: 64 neurons (somewhat arbitrary), 'relu' activation \n",
    "# Hidden layer 2: 32 neurons (somewhat arbitrary), 'relu' activation\n",
    "# Output layer: 10 neurons (one for each class), 'softmax' activation\n",
    "\n",
    "model.add(Dense(units=64, input_dim=784, activation='relu'))\n",
    "model.add(Dense(units=32, activation='relu'))\n",
    "model.add(Dense(units=10, activation='softmax'))\n",
    "\n",
    "# Print a summary of what you just created\n",
    "model.summary() "
   ]
  },
  {
   "cell_type": "code",
   "execution_count": 13,
   "metadata": {},
   "outputs": [],
   "source": [
    "# 2 -- Network Compilation\n",
    "\n",
    "# Compile. Loss function: categorical crossentropy. Optimizer: stochastic gradient descent (SGD). Metrics: 'accuracy'\n",
    "model.compile(loss='categorical_crossentropy', optimizer='sgd', metrics=['accuracy'])"
   ]
  },
  {
   "cell_type": "code",
   "execution_count": 14,
   "metadata": {},
   "outputs": [
    {
     "name": "stdout",
     "output_type": "stream",
     "text": [
      "3750/3750 [==============================] - 5s 1ms/step - loss: 0.5135 - accuracy: 0.8561\n"
     ]
    },
    {
     "data": {
      "text/plain": [
       "<keras.callbacks.History at 0x27438859ee0>"
      ]
     },
     "execution_count": 14,
     "metadata": {},
     "output_type": "execute_result"
    }
   ],
   "source": [
    "# 3 -- Network Training\n",
    "\n",
    "# Number of epochs: 10 (i.e. how many times to loop over the training data)\n",
    "# Batch size: 16 (how big our \"random walk\" samples should be)\n",
    "\n",
    "model.fit(X_train_flattened, y_train_categorical, epochs=1, batch_size=16)"
   ]
  },
  {
   "cell_type": "code",
   "execution_count": 15,
   "metadata": {},
   "outputs": [
    {
     "data": {
      "text/plain": [
       "'\\nStep 4: Evaluation & Predictions\\n'"
      ]
     },
     "execution_count": 15,
     "metadata": {},
     "output_type": "execute_result"
    }
   ],
   "source": [
    "'''\n",
    "Step 4: Evaluation & Predictions\n",
    "'''"
   ]
  },
  {
   "cell_type": "code",
   "execution_count": 16,
   "metadata": {},
   "outputs": [
    {
     "name": "stdout",
     "output_type": "stream",
     "text": [
      "Final test cost:  0.2675219774246216\n",
      "Final test accuracy:  0.9251000285148621\n"
     ]
    }
   ],
   "source": [
    "### Save the final cost of the loss model in a varaible called 'final_cost'.\n",
    "### Save the final cost of the model on the test set in a variable called 'test_accuracy'.\n",
    "\n",
    "loss_and_metrics = model.evaluate(X_test_flattened, y_test_categorical, batch_size=128, verbose=0)\n",
    "\n",
    "final_cost = loss_and_metrics[0]\n",
    "test_accuracy = loss_and_metrics[1]\n",
    "\n",
    "print(\"Final test cost: \", final_cost)\n",
    "print(\"Final test accuracy: \", test_accuracy)"
   ]
  },
  {
   "cell_type": "code",
   "execution_count": 17,
   "metadata": {},
   "outputs": [
    {
     "data": {
      "text/plain": [
       "\"\\nFinal Sanity Check: Make sure the our neural network's predictions match up with the actual images\\n\""
      ]
     },
     "execution_count": 17,
     "metadata": {},
     "output_type": "execute_result"
    }
   ],
   "source": [
    "'''\n",
    "Final Sanity Check: Make sure the our neural network's predictions match up with the actual images\n",
    "'''"
   ]
  },
  {
   "cell_type": "code",
   "execution_count": 18,
   "metadata": {},
   "outputs": [
    {
     "name": "stdout",
     "output_type": "stream",
     "text": [
      "Output vector:  [1.7034657e-04 4.1558546e-06 4.3948758e-03 1.9132051e-03 1.2677796e-06\n",
      " 2.3235347e-04 1.5021093e-06 9.9252045e-01 8.6761494e-05 6.7506958e-04]\n",
      "Predicted digit:  7\n"
     ]
    },
    {
     "data": {
      "image/png": "[encoded data removed]",
      "text/plain": [
       "<Figure size 432x288 with 1 Axes>"
      ]
     },
     "metadata": {
      "needs_background": "light"
     },
     "output_type": "display_data"
    }
   ],
   "source": [
    "# Pick a random test sample and see what the model predicts! \n",
    "sample_num = 0 \n",
    "\n",
    "import numpy as np\n",
    "\n",
    "test_sample = np.expand_dims(X_test_flattened[sample_num], axis=0) # pick out a one-sample \"batch\" to feed into model\n",
    "predicted_scores = model.predict(test_sample) # outputted probabilities vector\n",
    "print(\"Output vector: \", predicted_scores[0]) # print predicted scores\n",
    "\n",
    "predicted_class = np.argmax(predicted_scores) # pick the class with highest probability --> final prediction\n",
    "print(\"Predicted digit: \", predicted_class) # print predicted classification\n",
    "\n",
    "# Show actual input image\n",
    "plt.imshow(X_test[sample_num], cmap=plt.get_cmap('gray'))\n",
    "plt.show()"
   ]
  }
 ],
 "metadata": {
  "kernelspec": {
   "display_name": "Python 3",
   "language": "python",
   "name": "python3"
  },
  "language_info": {
   "codemirror_mode": {
    "name": "ipython",
    "version": 3
   },
   "file_extension": ".py",
   "mimetype": "text/x-python",
   "name": "python",
   "nbconvert_exporter": "python",
   "pygments_lexer": "ipython3",
   "version": "3.8.8"
  }
 },
 "nbformat": 4,
 "nbformat_minor": 4
}
