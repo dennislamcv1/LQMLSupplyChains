{
 "cells": [
  {
   "cell_type": "markdown",
   "id": "9d0e7eea",
   "metadata": {},
   "source": [
    "In this notebook, we'll predict housing prices using a neural network. By performing a train/test split and comparing performance to linear regressors, we can get a sense of the nuances and increases in accuracy when using more sophisticated models."
   ]
  },
  {
   "cell_type": "code",
   "execution_count": 1,
   "id": "888b97e6",
   "metadata": {},
   "outputs": [],
   "source": [
    "### In this cell, we import the necessary packages. Note the heavy use of the scikit-learn library\n",
    "### for the machine learning packages\n",
    "\n",
    "import pandas as pd\n",
    "from sklearn.neural_network import MLPRegressor\n",
    "from sklearn.datasets import load_boston\n",
    "from sklearn.model_selection import train_test_split\n",
    "import matplotlib.pyplot as plt\n",
    "from sklearn.preprocessing import StandardScaler\n",
    "import numpy as np\n",
    "from sklearn.linear_model import LinearRegression"
   ]
  },
  {
   "cell_type": "markdown",
   "id": "dad2ed06",
   "metadata": {},
   "source": [
    "### Dataset Description\n",
    "\n",
    "We'll be using a dataset from the scikit-learn datasets page that has information on housing prices in Boston. You can explore the dataset at the following link: https://scikit-learn.org/stable/datasets/toy_dataset.html#boston-dataset"
   ]
  },
  {
   "cell_type": "code",
   "execution_count": 2,
   "id": "1697e20f",
   "metadata": {},
   "outputs": [
    {
     "data": {
      "text/html": [
       "<div>\n",
       "<style scoped>\n",
       "    .dataframe tbody tr th:only-of-type {\n",
       "        vertical-align: middle;\n",
       "    }\n",
       "\n",
       "    .dataframe tbody tr th {\n",
       "        vertical-align: top;\n",
       "    }\n",
       "\n",
       "    .dataframe thead th {\n",
       "        text-align: right;\n",
       "    }\n",
       "</style>\n",
       "<table border=\"1\" class=\"dataframe\">\n",
       "  <thead>\n",
       "    <tr style=\"text-align: right;\">\n",
       "      <th></th>\n",
       "      <th>0</th>\n",
       "      <th>1</th>\n",
       "      <th>2</th>\n",
       "      <th>3</th>\n",
       "      <th>4</th>\n",
       "      <th>5</th>\n",
       "      <th>6</th>\n",
       "      <th>7</th>\n",
       "      <th>8</th>\n",
       "      <th>9</th>\n",
       "      <th>10</th>\n",
       "      <th>11</th>\n",
       "      <th>12</th>\n",
       "    </tr>\n",
       "  </thead>\n",
       "  <tbody>\n",
       "    <tr>\n",
       "      <th>0</th>\n",
       "      <td>0.00632</td>\n",
       "      <td>18.0</td>\n",
       "      <td>2.31</td>\n",
       "      <td>0.0</td>\n",
       "      <td>0.538</td>\n",
       "      <td>6.575</td>\n",
       "      <td>65.2</td>\n",
       "      <td>4.0900</td>\n",
       "      <td>1.0</td>\n",
       "      <td>296.0</td>\n",
       "      <td>15.3</td>\n",
       "      <td>396.90</td>\n",
       "      <td>4.98</td>\n",
       "    </tr>\n",
       "    <tr>\n",
       "      <th>1</th>\n",
       "      <td>0.02731</td>\n",
       "      <td>0.0</td>\n",
       "      <td>7.07</td>\n",
       "      <td>0.0</td>\n",
       "      <td>0.469</td>\n",
       "      <td>6.421</td>\n",
       "      <td>78.9</td>\n",
       "      <td>4.9671</td>\n",
       "      <td>2.0</td>\n",
       "      <td>242.0</td>\n",
       "      <td>17.8</td>\n",
       "      <td>396.90</td>\n",
       "      <td>9.14</td>\n",
       "    </tr>\n",
       "    <tr>\n",
       "      <th>2</th>\n",
       "      <td>0.02729</td>\n",
       "      <td>0.0</td>\n",
       "      <td>7.07</td>\n",
       "      <td>0.0</td>\n",
       "      <td>0.469</td>\n",
       "      <td>7.185</td>\n",
       "      <td>61.1</td>\n",
       "      <td>4.9671</td>\n",
       "      <td>2.0</td>\n",
       "      <td>242.0</td>\n",
       "      <td>17.8</td>\n",
       "      <td>392.83</td>\n",
       "      <td>4.03</td>\n",
       "    </tr>\n",
       "    <tr>\n",
       "      <th>3</th>\n",
       "      <td>0.03237</td>\n",
       "      <td>0.0</td>\n",
       "      <td>2.18</td>\n",
       "      <td>0.0</td>\n",
       "      <td>0.458</td>\n",
       "      <td>6.998</td>\n",
       "      <td>45.8</td>\n",
       "      <td>6.0622</td>\n",
       "      <td>3.0</td>\n",
       "      <td>222.0</td>\n",
       "      <td>18.7</td>\n",
       "      <td>394.63</td>\n",
       "      <td>2.94</td>\n",
       "    </tr>\n",
       "    <tr>\n",
       "      <th>4</th>\n",
       "      <td>0.06905</td>\n",
       "      <td>0.0</td>\n",
       "      <td>2.18</td>\n",
       "      <td>0.0</td>\n",
       "      <td>0.458</td>\n",
       "      <td>7.147</td>\n",
       "      <td>54.2</td>\n",
       "      <td>6.0622</td>\n",
       "      <td>3.0</td>\n",
       "      <td>222.0</td>\n",
       "      <td>18.7</td>\n",
       "      <td>396.90</td>\n",
       "      <td>5.33</td>\n",
       "    </tr>\n",
       "  </tbody>\n",
       "</table>\n",
       "</div>"
      ],
      "text/plain": [
       "        0     1     2    3      4      5     6       7    8      9     10  \\\n",
       "0  0.00632  18.0  2.31  0.0  0.538  6.575  65.2  4.0900  1.0  296.0  15.3   \n",
       "1  0.02731   0.0  7.07  0.0  0.469  6.421  78.9  4.9671  2.0  242.0  17.8   \n",
       "2  0.02729   0.0  7.07  0.0  0.469  7.185  61.1  4.9671  2.0  242.0  17.8   \n",
       "3  0.03237   0.0  2.18  0.0  0.458  6.998  45.8  6.0622  3.0  222.0  18.7   \n",
       "4  0.06905   0.0  2.18  0.0  0.458  7.147  54.2  6.0622  3.0  222.0  18.7   \n",
       "\n",
       "       11    12  \n",
       "0  396.90  4.98  \n",
       "1  396.90  9.14  \n",
       "2  392.83  4.03  \n",
       "3  394.63  2.94  \n",
       "4  396.90  5.33  "
      ]
     },
     "execution_count": 2,
     "metadata": {},
     "output_type": "execute_result"
    }
   ],
   "source": [
    "### In this cell, we read in the dataset into a dataframe. \n",
    "### The 'X' frame corresponds to the features, the 'y' is the target (housing prices).\n",
    "\n",
    "X, y = load_boston(return_X_y=True)\n",
    "X = pd.DataFrame(X)\n",
    "X.head()"
   ]
  },
  {
   "cell_type": "code",
   "execution_count": 3,
   "id": "01008b35",
   "metadata": {},
   "outputs": [
    {
     "data": {
      "text/html": [
       "<div>\n",
       "<style scoped>\n",
       "    .dataframe tbody tr th:only-of-type {\n",
       "        vertical-align: middle;\n",
       "    }\n",
       "\n",
       "    .dataframe tbody tr th {\n",
       "        vertical-align: top;\n",
       "    }\n",
       "\n",
       "    .dataframe thead th {\n",
       "        text-align: right;\n",
       "    }\n",
       "</style>\n",
       "<table border=\"1\" class=\"dataframe\">\n",
       "  <thead>\n",
       "    <tr style=\"text-align: right;\">\n",
       "      <th></th>\n",
       "      <th>CRIM per capita crime rate by town</th>\n",
       "      <th>ZN proportion of residential land zoned for lots over 25,000 sq.ft.</th>\n",
       "      <th>INDUS proportion of non-retail business acres per town</th>\n",
       "      <th>CHAS Charles River dummy variable (= 1 if tract bounds river; 0 otherwise)</th>\n",
       "      <th>NOX nitric oxides concentration (parts per 10 million)</th>\n",
       "      <th>RM average number of rooms per dwelling</th>\n",
       "      <th>AGE proportion of owner-occupied units built prior to 1940</th>\n",
       "      <th>DIS weighted distances to five Boston employment centres</th>\n",
       "      <th>RAD index of accessibility to radial highways</th>\n",
       "      <th>TAX full-value property-tax rate per $10,000</th>\n",
       "      <th>PTRATIO pupil-teacher ratio by town</th>\n",
       "      <th>B 1000(Bk - 0.63)^2 where Bk is the proportion of black people by town</th>\n",
       "      <th>LSTAT % lower status of the population</th>\n",
       "    </tr>\n",
       "  </thead>\n",
       "  <tbody>\n",
       "    <tr>\n",
       "      <th>0</th>\n",
       "      <td>0.00632</td>\n",
       "      <td>18.0</td>\n",
       "      <td>2.31</td>\n",
       "      <td>0.0</td>\n",
       "      <td>0.538</td>\n",
       "      <td>6.575</td>\n",
       "      <td>65.2</td>\n",
       "      <td>4.0900</td>\n",
       "      <td>1.0</td>\n",
       "      <td>296.0</td>\n",
       "      <td>15.3</td>\n",
       "      <td>396.90</td>\n",
       "      <td>4.98</td>\n",
       "    </tr>\n",
       "    <tr>\n",
       "      <th>1</th>\n",
       "      <td>0.02731</td>\n",
       "      <td>0.0</td>\n",
       "      <td>7.07</td>\n",
       "      <td>0.0</td>\n",
       "      <td>0.469</td>\n",
       "      <td>6.421</td>\n",
       "      <td>78.9</td>\n",
       "      <td>4.9671</td>\n",
       "      <td>2.0</td>\n",
       "      <td>242.0</td>\n",
       "      <td>17.8</td>\n",
       "      <td>396.90</td>\n",
       "      <td>9.14</td>\n",
       "    </tr>\n",
       "    <tr>\n",
       "      <th>2</th>\n",
       "      <td>0.02729</td>\n",
       "      <td>0.0</td>\n",
       "      <td>7.07</td>\n",
       "      <td>0.0</td>\n",
       "      <td>0.469</td>\n",
       "      <td>7.185</td>\n",
       "      <td>61.1</td>\n",
       "      <td>4.9671</td>\n",
       "      <td>2.0</td>\n",
       "      <td>242.0</td>\n",
       "      <td>17.8</td>\n",
       "      <td>392.83</td>\n",
       "      <td>4.03</td>\n",
       "    </tr>\n",
       "    <tr>\n",
       "      <th>3</th>\n",
       "      <td>0.03237</td>\n",
       "      <td>0.0</td>\n",
       "      <td>2.18</td>\n",
       "      <td>0.0</td>\n",
       "      <td>0.458</td>\n",
       "      <td>6.998</td>\n",
       "      <td>45.8</td>\n",
       "      <td>6.0622</td>\n",
       "      <td>3.0</td>\n",
       "      <td>222.0</td>\n",
       "      <td>18.7</td>\n",
       "      <td>394.63</td>\n",
       "      <td>2.94</td>\n",
       "    </tr>\n",
       "    <tr>\n",
       "      <th>4</th>\n",
       "      <td>0.06905</td>\n",
       "      <td>0.0</td>\n",
       "      <td>2.18</td>\n",
       "      <td>0.0</td>\n",
       "      <td>0.458</td>\n",
       "      <td>7.147</td>\n",
       "      <td>54.2</td>\n",
       "      <td>6.0622</td>\n",
       "      <td>3.0</td>\n",
       "      <td>222.0</td>\n",
       "      <td>18.7</td>\n",
       "      <td>396.90</td>\n",
       "      <td>5.33</td>\n",
       "    </tr>\n",
       "  </tbody>\n",
       "</table>\n",
       "</div>"
      ],
      "text/plain": [
       "   CRIM per capita crime rate by town  \\\n",
       "0                             0.00632   \n",
       "1                             0.02731   \n",
       "2                             0.02729   \n",
       "3                             0.03237   \n",
       "4                             0.06905   \n",
       "\n",
       "   ZN proportion of residential land zoned for lots over 25,000 sq.ft.  \\\n",
       "0                                               18.0                     \n",
       "1                                                0.0                     \n",
       "2                                                0.0                     \n",
       "3                                                0.0                     \n",
       "4                                                0.0                     \n",
       "\n",
       "   INDUS proportion of non-retail business acres per town  \\\n",
       "0                                               2.31        \n",
       "1                                               7.07        \n",
       "2                                               7.07        \n",
       "3                                               2.18        \n",
       "4                                               2.18        \n",
       "\n",
       "   CHAS Charles River dummy variable (= 1 if tract bounds river; 0 otherwise)  \\\n",
       "0                                                0.0                            \n",
       "1                                                0.0                            \n",
       "2                                                0.0                            \n",
       "3                                                0.0                            \n",
       "4                                                0.0                            \n",
       "\n",
       "   NOX nitric oxides concentration (parts per 10 million)  \\\n",
       "0                                              0.538        \n",
       "1                                              0.469        \n",
       "2                                              0.469        \n",
       "3                                              0.458        \n",
       "4                                              0.458        \n",
       "\n",
       "   RM average number of rooms per dwelling  \\\n",
       "0                                    6.575   \n",
       "1                                    6.421   \n",
       "2                                    7.185   \n",
       "3                                    6.998   \n",
       "4                                    7.147   \n",
       "\n",
       "   AGE proportion of owner-occupied units built prior to 1940  \\\n",
       "0                                               65.2            \n",
       "1                                               78.9            \n",
       "2                                               61.1            \n",
       "3                                               45.8            \n",
       "4                                               54.2            \n",
       "\n",
       "   DIS weighted distances to five Boston employment centres  \\\n",
       "0                                             4.0900          \n",
       "1                                             4.9671          \n",
       "2                                             4.9671          \n",
       "3                                             6.0622          \n",
       "4                                             6.0622          \n",
       "\n",
       "   RAD index of accessibility to radial highways  \\\n",
       "0                                            1.0   \n",
       "1                                            2.0   \n",
       "2                                            2.0   \n",
       "3                                            3.0   \n",
       "4                                            3.0   \n",
       "\n",
       "   TAX full-value property-tax rate per $10,000  \\\n",
       "0                                         296.0   \n",
       "1                                         242.0   \n",
       "2                                         242.0   \n",
       "3                                         222.0   \n",
       "4                                         222.0   \n",
       "\n",
       "   PTRATIO pupil-teacher ratio by town  \\\n",
       "0                                 15.3   \n",
       "1                                 17.8   \n",
       "2                                 17.8   \n",
       "3                                 18.7   \n",
       "4                                 18.7   \n",
       "\n",
       "   B 1000(Bk - 0.63)^2 where Bk is the proportion of black people by town  \\\n",
       "0                                             396.90                        \n",
       "1                                             396.90                        \n",
       "2                                             392.83                        \n",
       "3                                             394.63                        \n",
       "4                                             396.90                        \n",
       "\n",
       "   LSTAT % lower status of the population  \n",
       "0                                    4.98  \n",
       "1                                    9.14  \n",
       "2                                    4.03  \n",
       "3                                    2.94  \n",
       "4                                    5.33  "
      ]
     },
     "execution_count": 3,
     "metadata": {},
     "output_type": "execute_result"
    }
   ],
   "source": [
    "### Notice that the X dataframe doesn't have columns. We can add them in manually from the dataset description page.\n",
    "\n",
    "columns = ['CRIM per capita crime rate by town', \n",
    "'ZN proportion of residential land zoned for lots over 25,000 sq.ft.',\n",
    "'INDUS proportion of non-retail business acres per town',\n",
    "'CHAS Charles River dummy variable (= 1 if tract bounds river; 0 otherwise)',\n",
    "'NOX nitric oxides concentration (parts per 10 million)',\n",
    "'RM average number of rooms per dwelling',\n",
    "'AGE proportion of owner-occupied units built prior to 1940',\n",
    "'DIS weighted distances to five Boston employment centres',\n",
    "'RAD index of accessibility to radial highways',\n",
    "'TAX full-value property-tax rate per $10,000',\n",
    "'PTRATIO pupil-teacher ratio by town',\n",
    "'B 1000(Bk - 0.63)^2 where Bk is the proportion of black people by town',\n",
    "'LSTAT % lower status of the population']\n",
    "\n",
    "X.columns = columns\n",
    "X.head()"
   ]
  },
  {
   "cell_type": "code",
   "execution_count": 4,
   "id": "042a8f42",
   "metadata": {},
   "outputs": [
    {
     "data": {
      "text/html": [
       "<div>\n",
       "<style scoped>\n",
       "    .dataframe tbody tr th:only-of-type {\n",
       "        vertical-align: middle;\n",
       "    }\n",
       "\n",
       "    .dataframe tbody tr th {\n",
       "        vertical-align: top;\n",
       "    }\n",
       "\n",
       "    .dataframe thead th {\n",
       "        text-align: right;\n",
       "    }\n",
       "</style>\n",
       "<table border=\"1\" class=\"dataframe\">\n",
       "  <thead>\n",
       "    <tr style=\"text-align: right;\">\n",
       "      <th></th>\n",
       "      <th>CRIM per capita crime rate by town</th>\n",
       "      <th>ZN proportion of residential land zoned for lots over 25,000 sq.ft.</th>\n",
       "      <th>INDUS proportion of non-retail business acres per town</th>\n",
       "      <th>CHAS Charles River dummy variable (= 1 if tract bounds river; 0 otherwise)</th>\n",
       "      <th>NOX nitric oxides concentration (parts per 10 million)</th>\n",
       "      <th>RM average number of rooms per dwelling</th>\n",
       "      <th>AGE proportion of owner-occupied units built prior to 1940</th>\n",
       "      <th>DIS weighted distances to five Boston employment centres</th>\n",
       "      <th>RAD index of accessibility to radial highways</th>\n",
       "      <th>TAX full-value property-tax rate per $10,000</th>\n",
       "      <th>PTRATIO pupil-teacher ratio by town</th>\n",
       "      <th>B 1000(Bk - 0.63)^2 where Bk is the proportion of black people by town</th>\n",
       "      <th>LSTAT % lower status of the population</th>\n",
       "    </tr>\n",
       "  </thead>\n",
       "  <tbody>\n",
       "    <tr>\n",
       "      <th>count</th>\n",
       "      <td>506.000000</td>\n",
       "      <td>506.000000</td>\n",
       "      <td>506.000000</td>\n",
       "      <td>506.000000</td>\n",
       "      <td>506.000000</td>\n",
       "      <td>506.000000</td>\n",
       "      <td>506.000000</td>\n",
       "      <td>506.000000</td>\n",
       "      <td>506.000000</td>\n",
       "      <td>506.000000</td>\n",
       "      <td>506.000000</td>\n",
       "      <td>506.000000</td>\n",
       "      <td>506.000000</td>\n",
       "    </tr>\n",
       "    <tr>\n",
       "      <th>mean</th>\n",
       "      <td>3.613524</td>\n",
       "      <td>11.363636</td>\n",
       "      <td>11.136779</td>\n",
       "      <td>0.069170</td>\n",
       "      <td>0.554695</td>\n",
       "      <td>6.284634</td>\n",
       "      <td>68.574901</td>\n",
       "      <td>3.795043</td>\n",
       "      <td>9.549407</td>\n",
       "      <td>408.237154</td>\n",
       "      <td>18.455534</td>\n",
       "      <td>356.674032</td>\n",
       "      <td>12.653063</td>\n",
       "    </tr>\n",
       "    <tr>\n",
       "      <th>std</th>\n",
       "      <td>8.601545</td>\n",
       "      <td>23.322453</td>\n",
       "      <td>6.860353</td>\n",
       "      <td>0.253994</td>\n",
       "      <td>0.115878</td>\n",
       "      <td>0.702617</td>\n",
       "      <td>28.148861</td>\n",
       "      <td>2.105710</td>\n",
       "      <td>8.707259</td>\n",
       "      <td>168.537116</td>\n",
       "      <td>2.164946</td>\n",
       "      <td>91.294864</td>\n",
       "      <td>7.141062</td>\n",
       "    </tr>\n",
       "    <tr>\n",
       "      <th>min</th>\n",
       "      <td>0.006320</td>\n",
       "      <td>0.000000</td>\n",
       "      <td>0.460000</td>\n",
       "      <td>0.000000</td>\n",
       "      <td>0.385000</td>\n",
       "      <td>3.561000</td>\n",
       "      <td>2.900000</td>\n",
       "      <td>1.129600</td>\n",
       "      <td>1.000000</td>\n",
       "      <td>187.000000</td>\n",
       "      <td>12.600000</td>\n",
       "      <td>0.320000</td>\n",
       "      <td>1.730000</td>\n",
       "    </tr>\n",
       "    <tr>\n",
       "      <th>25%</th>\n",
       "      <td>0.082045</td>\n",
       "      <td>0.000000</td>\n",
       "      <td>5.190000</td>\n",
       "      <td>0.000000</td>\n",
       "      <td>0.449000</td>\n",
       "      <td>5.885500</td>\n",
       "      <td>45.025000</td>\n",
       "      <td>2.100175</td>\n",
       "      <td>4.000000</td>\n",
       "      <td>279.000000</td>\n",
       "      <td>17.400000</td>\n",
       "      <td>375.377500</td>\n",
       "      <td>6.950000</td>\n",
       "    </tr>\n",
       "    <tr>\n",
       "      <th>50%</th>\n",
       "      <td>0.256510</td>\n",
       "      <td>0.000000</td>\n",
       "      <td>9.690000</td>\n",
       "      <td>0.000000</td>\n",
       "      <td>0.538000</td>\n",
       "      <td>6.208500</td>\n",
       "      <td>77.500000</td>\n",
       "      <td>3.207450</td>\n",
       "      <td>5.000000</td>\n",
       "      <td>330.000000</td>\n",
       "      <td>19.050000</td>\n",
       "      <td>391.440000</td>\n",
       "      <td>11.360000</td>\n",
       "    </tr>\n",
       "    <tr>\n",
       "      <th>75%</th>\n",
       "      <td>3.677083</td>\n",
       "      <td>12.500000</td>\n",
       "      <td>18.100000</td>\n",
       "      <td>0.000000</td>\n",
       "      <td>0.624000</td>\n",
       "      <td>6.623500</td>\n",
       "      <td>94.075000</td>\n",
       "      <td>5.188425</td>\n",
       "      <td>24.000000</td>\n",
       "      <td>666.000000</td>\n",
       "      <td>20.200000</td>\n",
       "      <td>396.225000</td>\n",
       "      <td>16.955000</td>\n",
       "    </tr>\n",
       "    <tr>\n",
       "      <th>max</th>\n",
       "      <td>88.976200</td>\n",
       "      <td>100.000000</td>\n",
       "      <td>27.740000</td>\n",
       "      <td>1.000000</td>\n",
       "      <td>0.871000</td>\n",
       "      <td>8.780000</td>\n",
       "      <td>100.000000</td>\n",
       "      <td>12.126500</td>\n",
       "      <td>24.000000</td>\n",
       "      <td>711.000000</td>\n",
       "      <td>22.000000</td>\n",
       "      <td>396.900000</td>\n",
       "      <td>37.970000</td>\n",
       "    </tr>\n",
       "  </tbody>\n",
       "</table>\n",
       "</div>"
      ],
      "text/plain": [
       "       CRIM per capita crime rate by town  \\\n",
       "count                          506.000000   \n",
       "mean                             3.613524   \n",
       "std                              8.601545   \n",
       "min                              0.006320   \n",
       "25%                              0.082045   \n",
       "50%                              0.256510   \n",
       "75%                              3.677083   \n",
       "max                             88.976200   \n",
       "\n",
       "       ZN proportion of residential land zoned for lots over 25,000 sq.ft.  \\\n",
       "count                                         506.000000                     \n",
       "mean                                           11.363636                     \n",
       "std                                            23.322453                     \n",
       "min                                             0.000000                     \n",
       "25%                                             0.000000                     \n",
       "50%                                             0.000000                     \n",
       "75%                                            12.500000                     \n",
       "max                                           100.000000                     \n",
       "\n",
       "       INDUS proportion of non-retail business acres per town  \\\n",
       "count                                         506.000000        \n",
       "mean                                           11.136779        \n",
       "std                                             6.860353        \n",
       "min                                             0.460000        \n",
       "25%                                             5.190000        \n",
       "50%                                             9.690000        \n",
       "75%                                            18.100000        \n",
       "max                                            27.740000        \n",
       "\n",
       "       CHAS Charles River dummy variable (= 1 if tract bounds river; 0 otherwise)  \\\n",
       "count                                         506.000000                            \n",
       "mean                                            0.069170                            \n",
       "std                                             0.253994                            \n",
       "min                                             0.000000                            \n",
       "25%                                             0.000000                            \n",
       "50%                                             0.000000                            \n",
       "75%                                             0.000000                            \n",
       "max                                             1.000000                            \n",
       "\n",
       "       NOX nitric oxides concentration (parts per 10 million)  \\\n",
       "count                                         506.000000        \n",
       "mean                                            0.554695        \n",
       "std                                             0.115878        \n",
       "min                                             0.385000        \n",
       "25%                                             0.449000        \n",
       "50%                                             0.538000        \n",
       "75%                                             0.624000        \n",
       "max                                             0.871000        \n",
       "\n",
       "       RM average number of rooms per dwelling  \\\n",
       "count                               506.000000   \n",
       "mean                                  6.284634   \n",
       "std                                   0.702617   \n",
       "min                                   3.561000   \n",
       "25%                                   5.885500   \n",
       "50%                                   6.208500   \n",
       "75%                                   6.623500   \n",
       "max                                   8.780000   \n",
       "\n",
       "       AGE proportion of owner-occupied units built prior to 1940  \\\n",
       "count                                         506.000000            \n",
       "mean                                           68.574901            \n",
       "std                                            28.148861            \n",
       "min                                             2.900000            \n",
       "25%                                            45.025000            \n",
       "50%                                            77.500000            \n",
       "75%                                            94.075000            \n",
       "max                                           100.000000            \n",
       "\n",
       "       DIS weighted distances to five Boston employment centres  \\\n",
       "count                                         506.000000          \n",
       "mean                                            3.795043          \n",
       "std                                             2.105710          \n",
       "min                                             1.129600          \n",
       "25%                                             2.100175          \n",
       "50%                                             3.207450          \n",
       "75%                                             5.188425          \n",
       "max                                            12.126500          \n",
       "\n",
       "       RAD index of accessibility to radial highways  \\\n",
       "count                                     506.000000   \n",
       "mean                                        9.549407   \n",
       "std                                         8.707259   \n",
       "min                                         1.000000   \n",
       "25%                                         4.000000   \n",
       "50%                                         5.000000   \n",
       "75%                                        24.000000   \n",
       "max                                        24.000000   \n",
       "\n",
       "       TAX full-value property-tax rate per $10,000  \\\n",
       "count                                    506.000000   \n",
       "mean                                     408.237154   \n",
       "std                                      168.537116   \n",
       "min                                      187.000000   \n",
       "25%                                      279.000000   \n",
       "50%                                      330.000000   \n",
       "75%                                      666.000000   \n",
       "max                                      711.000000   \n",
       "\n",
       "       PTRATIO pupil-teacher ratio by town  \\\n",
       "count                           506.000000   \n",
       "mean                             18.455534   \n",
       "std                               2.164946   \n",
       "min                              12.600000   \n",
       "25%                              17.400000   \n",
       "50%                              19.050000   \n",
       "75%                              20.200000   \n",
       "max                              22.000000   \n",
       "\n",
       "       B 1000(Bk - 0.63)^2 where Bk is the proportion of black people by town  \\\n",
       "count                                         506.000000                        \n",
       "mean                                          356.674032                        \n",
       "std                                            91.294864                        \n",
       "min                                             0.320000                        \n",
       "25%                                           375.377500                        \n",
       "50%                                           391.440000                        \n",
       "75%                                           396.225000                        \n",
       "max                                           396.900000                        \n",
       "\n",
       "       LSTAT % lower status of the population  \n",
       "count                              506.000000  \n",
       "mean                                12.653063  \n",
       "std                                  7.141062  \n",
       "min                                  1.730000  \n",
       "25%                                  6.950000  \n",
       "50%                                 11.360000  \n",
       "75%                                 16.955000  \n",
       "max                                 37.970000  "
      ]
     },
     "execution_count": 4,
     "metadata": {},
     "output_type": "execute_result"
    }
   ],
   "source": [
    "### Let's do some simple data exploration. \n",
    "\n",
    "X.describe()"
   ]
  },
  {
   "cell_type": "code",
   "execution_count": 5,
   "id": "3efa56ca",
   "metadata": {},
   "outputs": [
    {
     "data": {
      "text/plain": [
       "<AxesSubplot:>"
      ]
     },
     "execution_count": 5,
     "metadata": {},
     "output_type": "execute_result"
    },
    {
     "data": {
      "image/png": "[encoded data removed]",
      "text/plain": [
       "<Figure size 432x288 with 1 Axes>"
      ]
     },
     "metadata": {
      "needs_background": "light"
     },
     "output_type": "display_data"
    }
   ],
   "source": [
    "### We can take a look at the average number of rooms with a histogram.\n",
    "\n",
    "X.iloc[:, 5].hist(bins = 50)"
   ]
  },
  {
   "cell_type": "code",
   "execution_count": 6,
   "id": "f8d65314",
   "metadata": {},
   "outputs": [
    {
     "data": {
      "text/plain": [
       "(array([ 21.,  55.,  82., 154.,  84.,  41.,  30.,   8.,  10.,  21.]),\n",
       " array([ 5. ,  9.5, 14. , 18.5, 23. , 27.5, 32. , 36.5, 41. , 45.5, 50. ]),\n",
       " <BarContainer object of 10 artists>)"
      ]
     },
     "execution_count": 6,
     "metadata": {},
     "output_type": "execute_result"
    },
    {
     "data": {
      "image/png": "[encoded data removed]",
      "text/plain": [
       "<Figure size 432x288 with 1 Axes>"
      ]
     },
     "metadata": {
      "needs_background": "light"
     },
     "output_type": "display_data"
    }
   ],
   "source": [
    "### In this cell, we look at a histogram of the target variable.\n",
    "\n",
    "plt.hist(y)"
   ]
  },
  {
   "cell_type": "code",
   "execution_count": 7,
   "id": "e8d0f4e1",
   "metadata": {},
   "outputs": [
    {
     "data": {
      "text/plain": [
       "Text(0, 0.5, 'Median House Price ( in $1000s)')"
      ]
     },
     "execution_count": 7,
     "metadata": {},
     "output_type": "execute_result"
    },
    {
     "data": {
      "image/png": "[encoded data removed]",
      "text/plain": [
       "<Figure size 432x288 with 1 Axes>"
      ]
     },
     "metadata": {
      "needs_background": "light"
     },
     "output_type": "display_data"
    }
   ],
   "source": [
    "### In this cell, we compare the average number of rooms to house prices. There is a strong positive correlation.\n",
    "\n",
    "plt.scatter(X.iloc[:, 5], y)\n",
    "plt.xlabel(X.columns[5])\n",
    "plt.ylabel('Median House Price ( in $1000s)')"
   ]
  },
  {
   "cell_type": "code",
   "execution_count": 8,
   "id": "52cc6c4c",
   "metadata": {},
   "outputs": [],
   "source": [
    "### In order to assess the accuracy of our model, we will perform a train/test split.\n",
    "### By deafult, scikit-learn uses a 75/25 split.\n",
    "\n",
    "X_train, X_test, y_train, y_test = train_test_split(X, y, random_state=0)"
   ]
  },
  {
   "cell_type": "code",
   "execution_count": 9,
   "id": "d63bba4e",
   "metadata": {},
   "outputs": [],
   "source": [
    "### Next, we'll scale the feature space so the range of each feature is comparable. \n",
    "### To do this, we will first fit a scaler to the train set and then use it to transform \n",
    "### BOTH the train and test set. When using a model in the real world, we assume that we don't know\n",
    "### the actual test set, so we can't fit a sperate scaler on that set specifcially.\n",
    "\n",
    "scaler = StandardScaler()\n",
    "\n",
    "X_train_scaled = scaler.fit_transform(X_train)\n",
    "X_test_scaled = scaler.transform(X_test)"
   ]
  },
  {
   "cell_type": "code",
   "execution_count": 10,
   "id": "0cc9b764",
   "metadata": {},
   "outputs": [],
   "source": [
    "### In this cell, we create a standard multi-layer perceptron regressor. \n",
    "### This is a simple neural network model that is standard in scikit-learn.\n",
    "### We increase the maximum iterations to 100000 to ensure convergence.\n",
    "\n",
    "reg = MLPRegressor(random_state=0, max_iter = 100000)"
   ]
  },
  {
   "cell_type": "code",
   "execution_count": 11,
   "id": "f84cd7e8",
   "metadata": {},
   "outputs": [
    {
     "data": {
      "text/plain": [
       "MLPRegressor(max_iter=100000, random_state=0)"
      ]
     },
     "execution_count": 11,
     "metadata": {},
     "output_type": "execute_result"
    }
   ],
   "source": [
    "### Next, we fit the model on the train set. \n",
    "\n",
    "reg.fit(X_train_scaled,y_train)"
   ]
  },
  {
   "cell_type": "code",
   "execution_count": 12,
   "id": "5829c2a8",
   "metadata": {},
   "outputs": [
    {
     "data": {
      "text/plain": [
       "0.7905063170466198"
      ]
     },
     "execution_count": 12,
     "metadata": {},
     "output_type": "execute_result"
    }
   ],
   "source": [
    "### We can quickly test the r2 score on the test set.\n",
    "\n",
    "reg.score(X_test_scaled, y_test)"
   ]
  },
  {
   "cell_type": "code",
   "execution_count": 13,
   "id": "1afcc4fe",
   "metadata": {},
   "outputs": [
    {
     "data": {
      "text/plain": [
       "[<matplotlib.lines.Line2D at 0x207db0f3730>]"
      ]
     },
     "execution_count": 13,
     "metadata": {},
     "output_type": "execute_result"
    },
    {
     "data": {
      "image/png": "[encoded data removed]",
      "text/plain": [
       "<Figure size 432x288 with 1 Axes>"
      ]
     },
     "metadata": {
      "needs_background": "light"
     },
     "output_type": "display_data"
    }
   ],
   "source": [
    "### Training loss over time\n",
    "\n",
    "plt.plot(reg.loss_curve_)"
   ]
  },
  {
   "cell_type": "code",
   "execution_count": 14,
   "id": "27beef3b",
   "metadata": {},
   "outputs": [],
   "source": [
    "### There are many paramaters we can tune to increase performance. \n",
    "### In this notebook, we'll change the learning rate and test performance on a cross-validation set.\n",
    "### This is an example of hyper-paramater tuning.\n",
    "\n",
    "X_train, X_val, y_train, y_val = train_test_split(X_train, y_train, test_size=0.25, random_state=0)\n",
    "\n",
    "scaler = StandardScaler()\n",
    "X_train_scaled = scaler.fit_transform(X_train)\n",
    "X_val_scaled = scaler.transform(X_val)\n",
    "X_test_scaled = scaler.transform(X_test)"
   ]
  },
  {
   "cell_type": "code",
   "execution_count": 15,
   "id": "46e9d93f",
   "metadata": {},
   "outputs": [
    {
     "name": "stderr",
     "output_type": "stream",
     "text": [
      "C:\\ProgramData\\Anaconda3\\lib\\site-packages\\sklearn\\neural_network\\_multilayer_perceptron.py:582: ConvergenceWarning: Stochastic Optimizer: Maximum iterations (10000) reached and the optimization hasn't converged yet.\n",
      "  warnings.warn(\n"
     ]
    },
    {
     "name": "stdout",
     "output_type": "stream",
     "text": [
      "Learning Rate: 0.0001 Score 0.8985341166309528\n",
      "Learning Rate: 0.001 Score 0.831527772549585\n",
      "Learning Rate: 0.01 Score 0.5462237397938277\n",
      "Learning Rate: 1 Score 0.5553793681607266\n",
      "Learning Rate: 10 Score -162.37454612466033\n"
     ]
    }
   ],
   "source": [
    "### In this cell, we iterate through different learning rates to examine perfomance on the validation set.\n",
    "\n",
    "\n",
    "learning_rates = [0.0001, 0.001, 0.01, 1, 10]\n",
    "\n",
    "for i in learning_rates:\n",
    "    reg = MLPRegressor(random_state=0, max_iter = 10000, learning_rate_init = i)\n",
    "    reg.fit(X_train_scaled,y_train)\n",
    "    print(\"Learning Rate:\", i, \"Score\", reg.score(X_val_scaled, y_val))"
   ]
  },
  {
   "cell_type": "code",
   "execution_count": 16,
   "id": "ba98025b",
   "metadata": {},
   "outputs": [
    {
     "name": "stdout",
     "output_type": "stream",
     "text": [
      "Score on hold-out set 0.8000062104700671\n"
     ]
    },
    {
     "name": "stderr",
     "output_type": "stream",
     "text": [
      "C:\\ProgramData\\Anaconda3\\lib\\site-packages\\sklearn\\neural_network\\_multilayer_perceptron.py:582: ConvergenceWarning: Stochastic Optimizer: Maximum iterations (10000) reached and the optimization hasn't converged yet.\n",
      "  warnings.warn(\n"
     ]
    }
   ],
   "source": [
    "### We can see that the best score comes with an inital learning rate of 0.0001.\n",
    "### Let's analyze the performance on the hold-out set. \n",
    "\n",
    "reg = MLPRegressor(random_state=0, max_iter = 10000, learning_rate_init = 0.0001)\n",
    "reg.fit(X_train_scaled,y_train)\n",
    "print(\"Score on hold-out set\", reg.score(X_test_scaled, y_test))"
   ]
  },
  {
   "cell_type": "code",
   "execution_count": 17,
   "id": "54c0440d",
   "metadata": {},
   "outputs": [
    {
     "data": {
      "text/plain": [
       "0.6401080939909236"
      ]
     },
     "execution_count": 17,
     "metadata": {},
     "output_type": "execute_result"
    }
   ],
   "source": [
    "### Finally, let's compare the score to that of linear regression.\n",
    "\n",
    "reg = LinearRegression()\n",
    "reg.fit(X_train_scaled, y_train)\n",
    "reg.score(X_test_scaled, y_test)"
   ]
  },
  {
   "cell_type": "code",
   "execution_count": 18,
   "id": "4ac188de",
   "metadata": {},
   "outputs": [],
   "source": [
    "### Clearly, neural networks are outperforming linear regressors in this case."
   ]
  }
 ],
 "metadata": {
  "kernelspec": {
   "display_name": "Python 3",
   "language": "python",
   "name": "python3"
  },
  "language_info": {
   "codemirror_mode": {
    "name": "ipython",
    "version": 3
   },
   "file_extension": ".py",
   "mimetype": "text/x-python",
   "name": "python",
   "nbconvert_exporter": "python",
   "pygments_lexer": "ipython3",
   "version": "3.8.8"
  }
 },
 "nbformat": 4,
 "nbformat_minor": 5
}
