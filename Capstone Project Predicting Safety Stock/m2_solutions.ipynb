{
 "cells": [
  {
   "cell_type": "code",
   "execution_count": 1,
   "metadata": {},
   "outputs": [
    {
     "data": {
      "text/plain": [
       "\"\\nSARIMA Model Predictions\\n\\nIn this notebook, we'll do some further exploration on the dataset, then use a SARIMA model to make predictions.\\n\""
      ]
     },
     "execution_count": 1,
     "metadata": {},
     "output_type": "execute_result"
    }
   ],
   "source": [
    "'''\n",
    "SARIMA Model Predictions\n",
    "\n",
    "In this notebook, we'll do some further exploration on the dataset, then use a SARIMA model to make predictions.\n",
    "'''"
   ]
  },
  {
   "cell_type": "code",
   "execution_count": 2,
   "metadata": {},
   "outputs": [],
   "source": [
    "### Loading in libraries and reading in dataset.\n",
    "\n",
    "import pandas as pd\n",
    "import numpy as np\n",
    "\n",
    "df = pd.read_csv('sales_data.csv')"
   ]
  },
  {
   "cell_type": "code",
   "execution_count": 3,
   "metadata": {},
   "outputs": [],
   "source": [
    "## Part A (20 pts)\n",
    "\n",
    "## Convert the 'Date' column to a pandas timeseries. Make this the index of the dataframe.\n",
    "\n",
    "df.Date = pd.to_datetime(df['Date'])\n",
    "df.set_index('Date', inplace =True)"
   ]
  },
  {
   "cell_type": "code",
   "execution_count": 4,
   "metadata": {},
   "outputs": [
    {
     "name": "stderr",
     "output_type": "stream",
     "text": [
      "C:\\ProgramData\\Anaconda3\\lib\\site-packages\\statsmodels\\tsa\\base\\tsa_model.py:578: ValueWarning: An unsupported index was provided and will be ignored when e.g. forecasting.\n",
      "  warnings.warn('An unsupported index was provided and will be'\n",
      "C:\\ProgramData\\Anaconda3\\lib\\site-packages\\statsmodels\\tsa\\base\\tsa_model.py:578: ValueWarning: An unsupported index was provided and will be ignored when e.g. forecasting.\n",
      "  warnings.warn('An unsupported index was provided and will be'\n",
      "C:\\ProgramData\\Anaconda3\\lib\\site-packages\\statsmodels\\tsa\\base\\tsa_model.py:376: ValueWarning: No supported index is available. Prediction results will be given with an integer index beginning at `start`.\n",
      "  warnings.warn('No supported index is available.'\n"
     ]
    }
   ],
   "source": [
    "## Part B (50 pts)\n",
    "\n",
    "## Implement a SARIMA prediction model to forecast the total amount of sales in the first month of 2017.\n",
    "## Store the result in a vaiable called 'forecasted_sales'\n",
    "## Hint: Group by month first and then apply the prediction model.\n",
    "\n",
    "df['month_year'] = list(zip(df.Month, df.Year))\n",
    "sales = df.groupby('month_year').sum()['SalePrice']\n",
    "\n",
    "from statsmodels.tsa.statespace.sarimax import SARIMAX\n",
    "model = SARIMAX(endog= sales)\n",
    "results = model.fit()\n",
    "forecasted_sales = results.predict(start = len(sales), dynamic= True).iloc[0]"
   ]
  },
  {
   "cell_type": "code",
   "execution_count": 5,
   "metadata": {},
   "outputs": [],
   "source": [
    "## Part C (30 pts)\n",
    "\n",
    "## Let's analyze some of the statistics of the SARIMA prediction.\n",
    "## What is the dependent variable? Store the result in a variable called 'dep_variable'.\n",
    "## How many observations are there? Store the result in a variable called 'num_obs'.\n",
    "## Finally, what is the coef? Store the result in a variable called 'coef'.\n",
    "\n",
    "results.summary()\n",
    "dep_variable = 'SalePrice'\n",
    "num_obs = 36\n",
    "coef = 0.7968"
   ]
  }
 ],
 "metadata": {
  "kernelspec": {
   "display_name": "Python 3",
   "language": "python",
   "name": "python3"
  },
  "language_info": {
   "codemirror_mode": {
    "name": "ipython",
    "version": 3
   },
   "file_extension": ".py",
   "mimetype": "text/x-python",
   "name": "python",
   "nbconvert_exporter": "python",
   "pygments_lexer": "ipython3",
   "version": "3.8.8"
  }
 },
 "nbformat": 4,
 "nbformat_minor": 4
}
