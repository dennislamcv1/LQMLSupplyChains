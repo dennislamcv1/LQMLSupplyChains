{
 "cells": [
  {
   "cell_type": "code",
   "execution_count": 1,
   "metadata": {},
   "outputs": [
    {
     "data": {
      "text/plain": [
       "\"\\nWe have created a dictionary called 'plants' with the values representing annual supply out of that region.\\nUse a for loop to populate a list called 'updated_plants' with only the plant names of the plants with an\\nannual supply of more than 875 units.\\n\""
      ]
     },
     "execution_count": 1,
     "metadata": {},
     "output_type": "execute_result"
    }
   ],
   "source": [
    "'''\n",
    "We have created a dictionary called 'plants' with the values representing annual supply out of that region.\n",
    "Use a for loop to populate a list called 'updated_plants' with only the plant names of the plants with an\n",
    "annual supply of more than 875 units.\n",
    "'''"
   ]
  },
  {
   "cell_type": "code",
   "execution_count": 2,
   "metadata": {},
   "outputs": [],
   "source": [
    "plants = {'Dallas': 900, 'Las Vegas': 500, 'Detroit': 832, 'Nashville': 600, 'Los Angeles': 2400, 'Seattle': 1300, 'Denver': 1800}"
   ]
  },
  {
   "cell_type": "code",
   "execution_count": 3,
   "metadata": {},
   "outputs": [],
   "source": [
    "updated_plants = []\n",
    "\n",
    "'''\n",
    "Populate the list called 'updated_plants' with only the plant names of the \n",
    "plants with an annual supply of more than 875 units.\n",
    "'''\n",
    "\n",
    "for plant in plants:\n",
    "    temp_val = plants[plant]\n",
    "    if temp_val > 875:\n",
    "        updated_plants.append(plant)"
   ]
  },
  {
   "cell_type": "code",
   "execution_count": null,
   "metadata": {},
   "outputs": [],
   "source": []
  }
 ],
 "metadata": {
  "kernelspec": {
   "display_name": "Python 3",
   "language": "python",
   "name": "python3"
  },
  "language_info": {
   "codemirror_mode": {
    "name": "ipython",
    "version": 3
   },
   "file_extension": ".py",
   "mimetype": "text/x-python",
   "name": "python",
   "nbconvert_exporter": "python",
   "pygments_lexer": "ipython3",
   "version": "3.8.8"
  }
 },
 "nbformat": 4,
 "nbformat_minor": 4
}
