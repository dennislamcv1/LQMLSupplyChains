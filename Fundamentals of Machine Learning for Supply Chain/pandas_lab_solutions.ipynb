{
 "cells": [
  {
   "cell_type": "code",
   "execution_count": 1,
   "metadata": {},
   "outputs": [
    {
     "data": {
      "text/plain": [
       "\"\\nIn this lab, we'll analyze the lb / unit ratio for different products.\\nWe want to look for any outliers in the data, where shipments are abnormally heavy or light.\\n\""
      ]
     },
     "execution_count": 1,
     "metadata": {},
     "output_type": "execute_result"
    }
   ],
   "source": [
    "'''\n",
    "In this lab, we'll analyze the lb / unit ratio for different products.\n",
    "We want to look for any outliers in the data, where shipments are abnormally heavy or light.\n",
    "'''"
   ]
  },
  {
   "cell_type": "code",
   "execution_count": 2,
   "metadata": {},
   "outputs": [],
   "source": [
    "### Loading in libraries\n",
    "\n",
    "import pandas as pd\n",
    "import numpy as np"
   ]
  },
  {
   "cell_type": "code",
   "execution_count": 3,
   "metadata": {},
   "outputs": [],
   "source": [
    "'''\n",
    "a) There is a file called 'Supply chain logisitcs problem.xlsx'. \n",
    "Read in the file as a datafrane and store it into a variable called \"orders\"\n",
    "'''\n",
    "\n",
    "orders = pd.read_excel('Supply chain logisitcs problem.xlsx')"
   ]
  },
  {
   "cell_type": "code",
   "execution_count": 4,
   "metadata": {},
   "outputs": [],
   "source": [
    "'''\n",
    "b) Next, we'll create a column for the lb / unit ratio for each product. Create this column in the orders dataframe\n",
    "and call it 'lb/unit_ratio'.\n",
    "'''\n",
    "\n",
    "orders['lb/unit_ratio'] = orders['Weight'] / orders['Unit quantity']"
   ]
  },
  {
   "cell_type": "code",
   "execution_count": 5,
   "metadata": {},
   "outputs": [],
   "source": [
    "'''\n",
    "c) Next, we need to get the mean lb / unit ratio for each product. For easy comparision, broadcast this result back into\n",
    "the original 'orders' dataframe. Your new column in the orders dataframe should be called 'avg_product_lb/unit_ratio'.\n",
    "Hint: There are multiple ways to do this, but the easiest is with the transform method.\n",
    "'''\n",
    "\n",
    "orders['avg_product_lb/unit_ratio'] = orders.groupby('Product ID')['lb/unit_ratio'].transform('mean')"
   ]
  },
  {
   "cell_type": "code",
   "execution_count": 6,
   "metadata": {},
   "outputs": [],
   "source": [
    "'''\n",
    "d) To look for outliers, let's analyze the squared difference between the 'lb/unit_ratio' and 'avg_product_lb/unit_ratio' columns within each row.\n",
    "Create a new column in the orders dataframe called 'lb/unit_squared_diff' with the stored result.\n",
    "Hint: Use the np.square() function.\n",
    "'''\n",
    "\n",
    "orders['lb/unit_squared_diff'] = np.square(orders['lb/unit_ratio'] - orders['avg_product_lb/unit_ratio'])"
   ]
  },
  {
   "cell_type": "code",
   "execution_count": 7,
   "metadata": {},
   "outputs": [],
   "source": [
    "'''\n",
    "e) Let's sort the orders by our new 'lb/unit_squared_diff' columns.\n",
    "Create a new dataframe called 'outliers' to store the 10 orders with the highest lb/unit\n",
    "deviations from the product mean.\n",
    "Hint: Pay attention to the 'ascending keyword' if using the sort_values function.\n",
    "'''\n",
    "\n",
    "outliers = orders.sort_values(by = ['lb/unit_squared_diff'], ascending = False).head(10)"
   ]
  },
  {
   "cell_type": "code",
   "execution_count": 8,
   "metadata": {},
   "outputs": [
    {
     "data": {
      "text/plain": [
       "<AxesSubplot:>"
      ]
     },
     "execution_count": 8,
     "metadata": {},
     "output_type": "execute_result"
    },
    {
     "data": {
      "image/png": "[encoded data removed]",
      "text/plain": [
       "<Figure size 432x288 with 1 Axes>"
      ]
     },
     "metadata": {
      "needs_background": "light"
     },
     "output_type": "display_data"
    }
   ],
   "source": [
    "'''\n",
    "f) Extra Credit: Let's plot our outliers in a bar chart. The y-axis should be our new 'lb/unit_squared_diff' column.\n",
    "The x-axis can be the default index.\n",
    "'''\n",
    "\n",
    "outliers['lb/unit_squared_diff'].plot(kind = 'bar')"
   ]
  },
  {
   "cell_type": "code",
   "execution_count": null,
   "metadata": {},
   "outputs": [],
   "source": []
  }
 ],
 "metadata": {
  "kernelspec": {
   "display_name": "Python 3",
   "language": "python",
   "name": "python3"
  },
  "language_info": {
   "codemirror_mode": {
    "name": "ipython",
    "version": 3
   },
   "file_extension": ".py",
   "mimetype": "text/x-python",
   "name": "python",
   "nbconvert_exporter": "python",
   "pygments_lexer": "ipython3",
   "version": "3.8.8"
  }
 },
 "nbformat": 4,
 "nbformat_minor": 4
}
