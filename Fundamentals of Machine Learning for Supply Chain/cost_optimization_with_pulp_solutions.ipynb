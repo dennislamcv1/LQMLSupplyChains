{
 "cells": [
  {
   "cell_type": "code",
   "execution_count": 1,
   "metadata": {},
   "outputs": [],
   "source": [
    "import pandas as pd\n",
    "import numpy as np\n",
    "import pulp"
   ]
  },
  {
   "cell_type": "code",
   "execution_count": 2,
   "metadata": {},
   "outputs": [
    {
     "data": {
      "text/html": [
       "<div>\n",
       "<style scoped>\n",
       "    .dataframe tbody tr th:only-of-type {\n",
       "        vertical-align: middle;\n",
       "    }\n",
       "\n",
       "    .dataframe tbody tr th {\n",
       "        vertical-align: top;\n",
       "    }\n",
       "\n",
       "    .dataframe thead th {\n",
       "        text-align: right;\n",
       "    }\n",
       "</style>\n",
       "<table border=\"1\" class=\"dataframe\">\n",
       "  <thead>\n",
       "    <tr style=\"text-align: right;\">\n",
       "      <th></th>\n",
       "      <th>Order ID</th>\n",
       "      <th>Order Date</th>\n",
       "      <th>Product ID</th>\n",
       "      <th>Destination Port</th>\n",
       "      <th>Unit quantity</th>\n",
       "      <th>Weight</th>\n",
       "    </tr>\n",
       "  </thead>\n",
       "  <tbody>\n",
       "    <tr>\n",
       "      <th>0</th>\n",
       "      <td>782912</td>\n",
       "      <td>2019-12-31</td>\n",
       "      <td>1700106</td>\n",
       "      <td>PORT09</td>\n",
       "      <td>808</td>\n",
       "      <td>14.30</td>\n",
       "    </tr>\n",
       "    <tr>\n",
       "      <th>1</th>\n",
       "      <td>782913</td>\n",
       "      <td>2019-12-31</td>\n",
       "      <td>1700106</td>\n",
       "      <td>PORT09</td>\n",
       "      <td>3188</td>\n",
       "      <td>87.94</td>\n",
       "    </tr>\n",
       "    <tr>\n",
       "      <th>2</th>\n",
       "      <td>782914</td>\n",
       "      <td>2019-12-31</td>\n",
       "      <td>1700106</td>\n",
       "      <td>PORT09</td>\n",
       "      <td>2331</td>\n",
       "      <td>61.20</td>\n",
       "    </tr>\n",
       "    <tr>\n",
       "      <th>3</th>\n",
       "      <td>782915</td>\n",
       "      <td>2019-12-31</td>\n",
       "      <td>1700106</td>\n",
       "      <td>PORT09</td>\n",
       "      <td>847</td>\n",
       "      <td>16.16</td>\n",
       "    </tr>\n",
       "    <tr>\n",
       "      <th>4</th>\n",
       "      <td>782916</td>\n",
       "      <td>2019-12-31</td>\n",
       "      <td>1700106</td>\n",
       "      <td>PORT09</td>\n",
       "      <td>2163</td>\n",
       "      <td>52.34</td>\n",
       "    </tr>\n",
       "  </tbody>\n",
       "</table>\n",
       "</div>"
      ],
      "text/plain": [
       "   Order ID Order Date  Product ID Destination Port  Unit quantity  Weight\n",
       "0    782912 2019-12-31     1700106           PORT09            808   14.30\n",
       "1    782913 2019-12-31     1700106           PORT09           3188   87.94\n",
       "2    782914 2019-12-31     1700106           PORT09           2331   61.20\n",
       "3    782915 2019-12-31     1700106           PORT09            847   16.16\n",
       "4    782916 2019-12-31     1700106           PORT09           2163   52.34"
      ]
     },
     "execution_count": 2,
     "metadata": {},
     "output_type": "execute_result"
    }
   ],
   "source": [
    "orders = pd.read_excel('Supply chain logisitcs problem.xlsx')\n",
    "orders.dropna(axis = 1, how = 'all', inplace = True)\n",
    "orders.dropna(axis = 0, how = 'all', inplace = True)\n",
    "orders.head()"
   ]
  },
  {
   "cell_type": "code",
   "execution_count": 3,
   "metadata": {},
   "outputs": [
    {
     "data": {
      "text/html": [
       "<div>\n",
       "<style scoped>\n",
       "    .dataframe tbody tr th:only-of-type {\n",
       "        vertical-align: middle;\n",
       "    }\n",
       "\n",
       "    .dataframe tbody tr th {\n",
       "        vertical-align: top;\n",
       "    }\n",
       "\n",
       "    .dataframe thead th {\n",
       "        text-align: right;\n",
       "    }\n",
       "</style>\n",
       "<table border=\"1\" class=\"dataframe\">\n",
       "  <thead>\n",
       "    <tr style=\"text-align: right;\">\n",
       "      <th></th>\n",
       "      <th>orig_port_cd</th>\n",
       "      <th>dest_port_cd</th>\n",
       "      <th>rate</th>\n",
       "    </tr>\n",
       "  </thead>\n",
       "  <tbody>\n",
       "    <tr>\n",
       "      <th>0</th>\n",
       "      <td>PORT02</td>\n",
       "      <td>PORT09</td>\n",
       "      <td>0.0484</td>\n",
       "    </tr>\n",
       "    <tr>\n",
       "      <th>1</th>\n",
       "      <td>PORT03</td>\n",
       "      <td>PORT09</td>\n",
       "      <td>0.1156</td>\n",
       "    </tr>\n",
       "    <tr>\n",
       "      <th>2</th>\n",
       "      <td>PORT04</td>\n",
       "      <td>PORT09</td>\n",
       "      <td>0.0620</td>\n",
       "    </tr>\n",
       "    <tr>\n",
       "      <th>3</th>\n",
       "      <td>PORT05</td>\n",
       "      <td>PORT09</td>\n",
       "      <td>0.1008</td>\n",
       "    </tr>\n",
       "    <tr>\n",
       "      <th>4</th>\n",
       "      <td>PORT06</td>\n",
       "      <td>PORT09</td>\n",
       "      <td>0.0848</td>\n",
       "    </tr>\n",
       "  </tbody>\n",
       "</table>\n",
       "</div>"
      ],
      "text/plain": [
       "  orig_port_cd dest_port_cd    rate\n",
       "0       PORT02       PORT09  0.0484\n",
       "1       PORT03       PORT09  0.1156\n",
       "2       PORT04       PORT09  0.0620\n",
       "3       PORT05       PORT09  0.1008\n",
       "4       PORT06       PORT09  0.0848"
      ]
     },
     "execution_count": 3,
     "metadata": {},
     "output_type": "execute_result"
    }
   ],
   "source": [
    "freight_rates = pd.read_excel('Supply chain logisitcs problem.xlsx', sheet_name  = 1)\n",
    "freight_rates.dropna(axis = 1, how = 'all', inplace = True)\n",
    "freight_rates.dropna(axis = 0, how = 'all', inplace = True)\n",
    "freight_rates.head()"
   ]
  },
  {
   "cell_type": "code",
   "execution_count": 4,
   "metadata": {},
   "outputs": [
    {
     "data": {
      "text/html": [
       "<div>\n",
       "<style scoped>\n",
       "    .dataframe tbody tr th:only-of-type {\n",
       "        vertical-align: middle;\n",
       "    }\n",
       "\n",
       "    .dataframe tbody tr th {\n",
       "        vertical-align: top;\n",
       "    }\n",
       "\n",
       "    .dataframe thead th {\n",
       "        text-align: right;\n",
       "    }\n",
       "</style>\n",
       "<table border=\"1\" class=\"dataframe\">\n",
       "  <thead>\n",
       "    <tr style=\"text-align: right;\">\n",
       "      <th></th>\n",
       "      <th>Plant ID</th>\n",
       "      <th>Daily Capacity</th>\n",
       "    </tr>\n",
       "  </thead>\n",
       "  <tbody>\n",
       "    <tr>\n",
       "      <th>0</th>\n",
       "      <td>PLANT15</td>\n",
       "      <td>1872</td>\n",
       "    </tr>\n",
       "    <tr>\n",
       "      <th>1</th>\n",
       "      <td>PLANT17</td>\n",
       "      <td>731</td>\n",
       "    </tr>\n",
       "    <tr>\n",
       "      <th>2</th>\n",
       "      <td>PLANT18</td>\n",
       "      <td>682</td>\n",
       "    </tr>\n",
       "    <tr>\n",
       "      <th>3</th>\n",
       "      <td>PLANT05</td>\n",
       "      <td>531</td>\n",
       "    </tr>\n",
       "    <tr>\n",
       "      <th>4</th>\n",
       "      <td>PLANT02</td>\n",
       "      <td>435</td>\n",
       "    </tr>\n",
       "  </tbody>\n",
       "</table>\n",
       "</div>"
      ],
      "text/plain": [
       "  Plant ID  Daily Capacity\n",
       "0  PLANT15            1872\n",
       "1  PLANT17             731\n",
       "2  PLANT18             682\n",
       "3  PLANT05             531\n",
       "4  PLANT02             435"
      ]
     },
     "execution_count": 4,
     "metadata": {},
     "output_type": "execute_result"
    }
   ],
   "source": [
    "wh_capacities = pd.read_excel('Supply chain logisitcs problem.xlsx', sheet_name  = 2)\n",
    "wh_capacities.dropna(axis = 1, how = 'all', inplace = True)\n",
    "wh_capacities.dropna(axis = 0, how = 'all', inplace = True)\n",
    "wh_capacities.head()"
   ]
  },
  {
   "cell_type": "code",
   "execution_count": 5,
   "metadata": {},
   "outputs": [
    {
     "data": {
      "text/html": [
       "<div>\n",
       "<style scoped>\n",
       "    .dataframe tbody tr th:only-of-type {\n",
       "        vertical-align: middle;\n",
       "    }\n",
       "\n",
       "    .dataframe tbody tr th {\n",
       "        vertical-align: top;\n",
       "    }\n",
       "\n",
       "    .dataframe thead th {\n",
       "        text-align: right;\n",
       "    }\n",
       "</style>\n",
       "<table border=\"1\" class=\"dataframe\">\n",
       "  <thead>\n",
       "    <tr style=\"text-align: right;\">\n",
       "      <th></th>\n",
       "      <th>Plant Code</th>\n",
       "      <th>Product ID</th>\n",
       "      <th>Cost per unit</th>\n",
       "    </tr>\n",
       "  </thead>\n",
       "  <tbody>\n",
       "    <tr>\n",
       "      <th>0</th>\n",
       "      <td>PLANT15</td>\n",
       "      <td>1698815</td>\n",
       "      <td>1.70</td>\n",
       "    </tr>\n",
       "    <tr>\n",
       "      <th>1</th>\n",
       "      <td>PLANT17</td>\n",
       "      <td>1664419</td>\n",
       "      <td>0.44</td>\n",
       "    </tr>\n",
       "    <tr>\n",
       "      <th>2</th>\n",
       "      <td>PLANT17</td>\n",
       "      <td>1664426</td>\n",
       "      <td>0.37</td>\n",
       "    </tr>\n",
       "    <tr>\n",
       "      <th>3</th>\n",
       "      <td>PLANT17</td>\n",
       "      <td>1672826</td>\n",
       "      <td>1.90</td>\n",
       "    </tr>\n",
       "    <tr>\n",
       "      <th>4</th>\n",
       "      <td>PLANT17</td>\n",
       "      <td>1674916</td>\n",
       "      <td>0.28</td>\n",
       "    </tr>\n",
       "  </tbody>\n",
       "</table>\n",
       "</div>"
      ],
      "text/plain": [
       "  Plant Code  Product ID  Cost per unit\n",
       "0    PLANT15     1698815           1.70\n",
       "1    PLANT17     1664419           0.44\n",
       "2    PLANT17     1664426           0.37\n",
       "3    PLANT17     1672826           1.90\n",
       "4    PLANT17     1674916           0.28"
      ]
     },
     "execution_count": 5,
     "metadata": {},
     "output_type": "execute_result"
    }
   ],
   "source": [
    "products_per_plant = pd.read_excel('Supply chain logisitcs problem.xlsx', sheet_name  = 3)\n",
    "products_per_plant.dropna(axis = 1, how = 'all', inplace = True)\n",
    "products_per_plant.dropna(axis = 0, how = 'all', inplace = True)\n",
    "products_per_plant.head()"
   ]
  },
  {
   "cell_type": "code",
   "execution_count": 6,
   "metadata": {},
   "outputs": [
    {
     "data": {
      "text/html": [
       "<div>\n",
       "<style scoped>\n",
       "    .dataframe tbody tr th:only-of-type {\n",
       "        vertical-align: middle;\n",
       "    }\n",
       "\n",
       "    .dataframe tbody tr th {\n",
       "        vertical-align: top;\n",
       "    }\n",
       "\n",
       "    .dataframe thead th {\n",
       "        text-align: right;\n",
       "    }\n",
       "</style>\n",
       "<table border=\"1\" class=\"dataframe\">\n",
       "  <thead>\n",
       "    <tr style=\"text-align: right;\">\n",
       "      <th></th>\n",
       "      <th>Plant Code</th>\n",
       "      <th>Port</th>\n",
       "    </tr>\n",
       "  </thead>\n",
       "  <tbody>\n",
       "    <tr>\n",
       "      <th>0</th>\n",
       "      <td>PLANT01</td>\n",
       "      <td>PORT01</td>\n",
       "    </tr>\n",
       "    <tr>\n",
       "      <th>1</th>\n",
       "      <td>PLANT01</td>\n",
       "      <td>PORT02</td>\n",
       "    </tr>\n",
       "    <tr>\n",
       "      <th>2</th>\n",
       "      <td>PLANT02</td>\n",
       "      <td>PORT03</td>\n",
       "    </tr>\n",
       "    <tr>\n",
       "      <th>3</th>\n",
       "      <td>PLANT03</td>\n",
       "      <td>PORT04</td>\n",
       "    </tr>\n",
       "    <tr>\n",
       "      <th>4</th>\n",
       "      <td>PLANT04</td>\n",
       "      <td>PORT05</td>\n",
       "    </tr>\n",
       "  </tbody>\n",
       "</table>\n",
       "</div>"
      ],
      "text/plain": [
       "  Plant Code    Port\n",
       "0    PLANT01  PORT01\n",
       "1    PLANT01  PORT02\n",
       "2    PLANT02  PORT03\n",
       "3    PLANT03  PORT04\n",
       "4    PLANT04  PORT05"
      ]
     },
     "execution_count": 6,
     "metadata": {},
     "output_type": "execute_result"
    }
   ],
   "source": [
    "ports = pd.read_excel('Supply chain logisitcs problem.xlsx', sheet_name  = 4)\n",
    "ports.dropna(axis = 1, how = 'all', inplace = True)\n",
    "ports.dropna(axis = 0, how = 'all', inplace = True)\n",
    "ports.head()"
   ]
  },
  {
   "cell_type": "code",
   "execution_count": 7,
   "metadata": {},
   "outputs": [],
   "source": [
    "shipping_costs = dict(zip(freight_rates['orig_port_cd'], freight_rates['rate']))"
   ]
  },
  {
   "cell_type": "code",
   "execution_count": 8,
   "metadata": {},
   "outputs": [],
   "source": [
    "def get_plants(product_id):\n",
    "    \n",
    "    temp = products_per_plant[products_per_plant['Product ID'] == product_id]\n",
    "    return tuple(np.unique(temp['Plant Code']))"
   ]
  },
  {
   "cell_type": "code",
   "execution_count": 9,
   "metadata": {},
   "outputs": [
    {
     "data": {
      "text/plain": [
       "'\\nPart 1\\n'"
      ]
     },
     "execution_count": 9,
     "metadata": {},
     "output_type": "execute_result"
    }
   ],
   "source": [
    "'''\n",
    "Part 1\n",
    "'''"
   ]
  },
  {
   "cell_type": "code",
   "execution_count": 10,
   "metadata": {},
   "outputs": [],
   "source": [
    "''' \n",
    "a) Create a new column in the 'orders' dataframe called 'allowed_plants'. \n",
    "To do this, you'll need to apply the defined get_plants function using a lambda function.\n",
    "'''\n",
    "\n",
    "orders['allowed_plants'] = orders['Product ID'].apply(lambda x: get_plants(x))"
   ]
  },
  {
   "cell_type": "code",
   "execution_count": 11,
   "metadata": {},
   "outputs": [],
   "source": [
    "'''\n",
    "b) Set the index of the 'orders' dataframe to be the 'Order ID'. Make sure you set the index in place. \n",
    "'''\n",
    "\n",
    "orders.set_index('Order ID', inplace = True)"
   ]
  },
  {
   "cell_type": "code",
   "execution_count": 12,
   "metadata": {},
   "outputs": [],
   "source": [
    "plant_ports = dict(zip(ports['Plant Code'], ports['Port']))"
   ]
  },
  {
   "cell_type": "code",
   "execution_count": 13,
   "metadata": {},
   "outputs": [
    {
     "data": {
      "text/plain": [
       "'\\nPart 2\\n'"
      ]
     },
     "execution_count": 13,
     "metadata": {},
     "output_type": "execute_result"
    }
   ],
   "source": [
    "'''\n",
    "Part 2\n",
    "'''"
   ]
  },
  {
   "cell_type": "code",
   "execution_count": 14,
   "metadata": {},
   "outputs": [],
   "source": [
    "def production_cost(order_id, plant):\n",
    "    '''\n",
    "    a) Return the production cost for a given order_id and plant (wahrehouse) name. \n",
    "    From the order id, you should first get the associated product id, which can be used to get the cost per unit.\n",
    "    From here, multiply the cost per unit by the unit quantity to get the total production cost.\n",
    "    '''\n",
    "    \n",
    "    t = orders.loc[order_id]\n",
    "    prod_id = t['Product ID']\n",
    "    pt = products_per_plant[products_per_plant['Product ID'] == prod_id]\n",
    "    pt = pt[pt['Plant Code'] == plant]\n",
    "    cpu = pt['Cost per unit']\n",
    "    production_cost = cpu * t['Unit quantity']\n",
    "    return production_cost.iloc[0]"
   ]
  },
  {
   "cell_type": "code",
   "execution_count": 15,
   "metadata": {},
   "outputs": [],
   "source": [
    "def shipping_cost(order_id, plant):\n",
    "    '''\n",
    "    b) Return the shipping cost for a given order_id and plant (warehouse) name. \n",
    "    From the plant name, you should first get the associated port, which can be used to get the shipping cost per lb.\n",
    "    From here, multiply the cost per lb by the weight to get the total shipping cost.\n",
    "    '''\n",
    "    \n",
    "    t = orders.loc[order_id]\n",
    "    w = t['Weight']\n",
    "    port = plant_ports[plant]\n",
    "    cp = shipping_costs[port]\n",
    "    ship_cost = cp * w\n",
    "    return ship_cost"
   ]
  },
  {
   "cell_type": "code",
   "execution_count": 16,
   "metadata": {},
   "outputs": [],
   "source": [
    "def total_cost(order_id, plant):\n",
    "    '''\n",
    "    c) Return the total cost for a given order_id and plant (warehouse) name. \n",
    "    You should add the results of the two functions above. \n",
    "    '''\n",
    "\n",
    "    return shipping_cost(order_id, plant) + production_cost(order_id, plant)"
   ]
  },
  {
   "cell_type": "code",
   "execution_count": 17,
   "metadata": {},
   "outputs": [],
   "source": [
    "### We create a dictionary with the key-value pair 'orderId_plantName': total_cost.\n",
    "\n",
    "order_costs = {}\n",
    "for name, row in orders.iterrows():\n",
    "    order_id = name\n",
    "    for plant in row['allowed_plants']:   \n",
    "        order_costs[str(order_id) + '_' + str(plant)] = total_cost(order_id, plant)"
   ]
  },
  {
   "cell_type": "code",
   "execution_count": 18,
   "metadata": {},
   "outputs": [],
   "source": [
    "### We create a dictionary with the key-value pair 'plantName': list_of_orders.\n",
    "\n",
    "plants = np.unique(ports['Plant Code'])\n",
    "\n",
    "plant_orders = {}\n",
    "for plant in plants:\n",
    "    temp_list = []\n",
    "    for name, row in orders.iterrows():\n",
    "        if plant in row['allowed_plants']:  \n",
    "            temp_list.append(str(name) + '_' + plant)\n",
    "    plant_orders[plant] = temp_list"
   ]
  },
  {
   "cell_type": "code",
   "execution_count": 19,
   "metadata": {},
   "outputs": [],
   "source": [
    "### We create a dictionary with the key-value pair 'plantName': capacity.\n",
    "\n",
    "plant_cap = dict(zip(wh_capacities['Plant ID'], wh_capacities['Daily Capacity']))"
   ]
  },
  {
   "cell_type": "code",
   "execution_count": 20,
   "metadata": {},
   "outputs": [],
   "source": [
    "### We create a dictionary with the key-value pair 'orderID': orderID_plantName.\n",
    "\n",
    "order_plants = {}\n",
    "temp_dict = dict(zip(orders.index, orders['allowed_plants']))\n",
    "for key in temp_dict:\n",
    "    temp_list = []\n",
    "    for pl in temp_dict[key]:\n",
    "        temp_list.append(str(key) + '_' + pl)\n",
    "    order_plants[key] = temp_list"
   ]
  },
  {
   "cell_type": "code",
   "execution_count": 21,
   "metadata": {},
   "outputs": [],
   "source": [
    "build = pulp.LpVariable.dicts(\"Route\",order_costs.keys(),0,None, pulp.LpInteger)\n",
    "prob = pulp.LpProblem(\"Problem\",pulp.LpMinimize)\n",
    "prob += pulp.lpSum([build[b] * order_costs[b] for b in order_costs.keys()]), \"Total Cost\""
   ]
  },
  {
   "cell_type": "code",
   "execution_count": 22,
   "metadata": {},
   "outputs": [],
   "source": [
    "for plant in plant_orders:\n",
    "    if len(plant_orders[plant]) > 0:\n",
    "        prob += pulp.lpSum(build[p] for p in plant_orders[plant]) <= plant_cap[plant], \"Total orders out of plant %s\"%plant"
   ]
  },
  {
   "cell_type": "code",
   "execution_count": 23,
   "metadata": {},
   "outputs": [],
   "source": [
    "for o in order_plants:\n",
    "    prob += pulp.lpSum(build[p] for p in order_plants[o]) == 1, \"Order_\" + str(o) + \"_filled\""
   ]
  },
  {
   "cell_type": "code",
   "execution_count": 24,
   "metadata": {},
   "outputs": [
    {
     "data": {
      "text/plain": [
       "'\\nPart 3\\n'"
      ]
     },
     "execution_count": 24,
     "metadata": {},
     "output_type": "execute_result"
    }
   ],
   "source": [
    "'''\n",
    "Part 3\n",
    "'''"
   ]
  },
  {
   "cell_type": "code",
   "execution_count": 25,
   "metadata": {},
   "outputs": [
    {
     "name": "stdout",
     "output_type": "stream",
     "text": [
      "Status: Not Solved\n"
     ]
    }
   ],
   "source": [
    "''' \n",
    "a) Solve the linear programming problem and store its status in a variable called 'status'.\n",
    "'''\n",
    "\n",
    "status = pulp.LpStatus[prob.status]\n",
    "for i in range(3):\n",
    "    if status == 'Optimal':\n",
    "        break\n",
    "    prob.solve()\n",
    "\n",
    "print(\"Status:\", status)"
   ]
  },
  {
   "cell_type": "code",
   "execution_count": 26,
   "metadata": {},
   "outputs": [
    {
     "name": "stdout",
     "output_type": "stream",
     "text": [
      "Total Cost =  27140675.14\n"
     ]
    }
   ],
   "source": [
    "'''\n",
    "b) Find the total cost to produce and ship all products and store the answer in a variable called 'total_cost'\n",
    "Round the final answer to 2 decimal places (https://docs.python.org/3/library/functions.html#round).\n",
    "'''\n",
    "total_cost = round(pulp.value(prob.objective), 2)\n",
    "\n",
    "print(\"Total Cost = \", str(total_cost))"
   ]
  },
  {
   "cell_type": "code",
   "execution_count": null,
   "metadata": {},
   "outputs": [],
   "source": []
  }
 ],
 "metadata": {
  "kernelspec": {
   "display_name": "Python 3",
   "language": "python",
   "name": "python3"
  },
  "language_info": {
   "codemirror_mode": {
    "name": "ipython",
    "version": 3
   },
   "file_extension": ".py",
   "mimetype": "text/x-python",
   "name": "python",
   "nbconvert_exporter": "python",
   "pygments_lexer": "ipython3",
   "version": "3.8.8"
  }
 },
 "nbformat": 4,
 "nbformat_minor": 4
}
