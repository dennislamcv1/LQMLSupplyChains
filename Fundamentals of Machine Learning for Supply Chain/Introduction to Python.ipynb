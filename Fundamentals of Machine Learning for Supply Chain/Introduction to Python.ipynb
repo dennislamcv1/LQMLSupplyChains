{
 "cells": [
  {
   "cell_type": "code",
   "execution_count": 1,
   "id": "98c706ad",
   "metadata": {},
   "outputs": [
    {
     "name": "stdout",
     "output_type": "stream",
     "text": [
      "10\n"
     ]
    }
   ],
   "source": [
    "total = 0\n",
    "\n",
    "for n in range(5):\n",
    "\n",
    "   total = total + n\n",
    "\n",
    "print(total) "
   ]
  },
  {
   "cell_type": "code",
   "execution_count": 2,
   "id": "942c71d5",
   "metadata": {},
   "outputs": [
    {
     "name": "stdout",
     "output_type": "stream",
     "text": [
      "Moby Dick\n"
     ]
    }
   ],
   "source": [
    "books = ['Ulysses', 'Don Quixote', 'The Great Gatsby', 'War and Peace']\n",
    "\n",
    "books.append('Moby Dick')\n",
    "\n",
    "books.append('Lolita')\n",
    "\n",
    "print(books[4])"
   ]
  },
  {
   "cell_type": "code",
   "execution_count": 3,
   "id": "f006d2ff",
   "metadata": {},
   "outputs": [
    {
     "data": {
      "text/plain": [
       "{'Ulysses': 1, 'Don Quixote': 0, 'The Great Gatsby': 1, 'War and Peace': 1}"
      ]
     },
     "execution_count": 3,
     "metadata": {},
     "output_type": "execute_result"
    }
   ],
   "source": [
    "import random\n",
    "\n",
    "books = ['Ulysses', 'Don Quixote', 'The Great Gatsby', 'War and Peace']\n",
    "\n",
    "fav_books = {}\n",
    "\n",
    "for book in books:\n",
    "\n",
    "    fav_books[book] = random.randint(0,1)\n",
    "    \n",
    "fav_books"
   ]
  },
  {
   "cell_type": "code",
   "execution_count": 4,
   "id": "79d763c4",
   "metadata": {},
   "outputs": [
    {
     "name": "stdout",
     "output_type": "stream",
     "text": [
      "The machine is 56.700000% percent used\n"
     ]
    }
   ],
   "source": [
    "percent_used = 0.567\n",
    "\n",
    "print(\"The machine is {:%} percent used\".format(percent_used))"
   ]
  },
  {
   "cell_type": "code",
   "execution_count": 5,
   "id": "8b106173",
   "metadata": {},
   "outputs": [
    {
     "name": "stdout",
     "output_type": "stream",
     "text": [
      "Ulysses 0\n",
      "Don Quixote 0\n",
      "The Great Gatsby 0\n",
      "War and Peace 0\n"
     ]
    }
   ],
   "source": [
    "books = ['Ulysses', 'Don Quixote', 'The Great Gatsby', 'War and Peace']\n",
    "\n",
    "for book in books:\n",
    "\n",
    "   for n in range (2):\n",
    "\n",
    "      if n!= 1:\n",
    "\n",
    "         print(book, n)"
   ]
  },
  {
   "cell_type": "code",
   "execution_count": 6,
   "id": "dfabaa08",
   "metadata": {},
   "outputs": [
    {
     "data": {
      "text/plain": [
       "['s', ' ', ' ', ' ']"
      ]
     },
     "execution_count": 6,
     "metadata": {},
     "output_type": "execute_result"
    }
   ],
   "source": [
    "books = ['Ulysses', 'Don Quixote', 'The Great Gatsby', 'War and Peace']\n",
    "\n",
    "third_letter = []\n",
    "\n",
    "for book in books:\n",
    "\n",
    "   third_letter.append(book[3])\n",
    "\n",
    "third_letter"
   ]
  },
  {
   "cell_type": "code",
   "execution_count": 7,
   "id": "ed162eff",
   "metadata": {},
   "outputs": [],
   "source": [
    "import numpy\n",
    "\n",
    "x = [1,2]\n",
    "\n",
    "def f(x):\n",
    "    return numpy.power(x[2] - x[1], x[0])"
   ]
  },
  {
   "cell_type": "code",
   "execution_count": 8,
   "id": "079ce4bb",
   "metadata": {},
   "outputs": [
    {
     "data": {
      "text/plain": [
       "14"
      ]
     },
     "execution_count": 8,
     "metadata": {},
     "output_type": "execute_result"
    }
   ],
   "source": [
    "def f(end):\n",
    "\n",
    "    total = 0\n",
    "\n",
    "    for n in range(end+1):\n",
    "\n",
    "        total = total + n*n\n",
    "\n",
    "    return total\n",
    "\n",
    "\n",
    "f(3)"
   ]
  },
  {
   "cell_type": "code",
   "execution_count": null,
   "id": "b0dcac84",
   "metadata": {},
   "outputs": [],
   "source": []
  }
 ],
 "metadata": {
  "kernelspec": {
   "display_name": "Python 3",
   "language": "python",
   "name": "python3"
  },
  "language_info": {
   "codemirror_mode": {
    "name": "ipython",
    "version": 3
   },
   "file_extension": ".py",
   "mimetype": "text/x-python",
   "name": "python",
   "nbconvert_exporter": "python",
   "pygments_lexer": "ipython3",
   "version": "3.8.8"
  }
 },
 "nbformat": 4,
 "nbformat_minor": 5
}
