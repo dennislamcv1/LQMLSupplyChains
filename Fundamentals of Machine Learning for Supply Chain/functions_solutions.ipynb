{
 "cells": [
  {
   "cell_type": "code",
   "execution_count": 1,
   "metadata": {},
   "outputs": [
    {
     "data": {
      "text/plain": [
       "'\\nDefine a function called \\'dictionary_creator\\' to take in two lists and return a dictionary with key:value pair list1:list2.\\nIf the two lists are not the same size, return the word \"Error\" instead.\\n'"
      ]
     },
     "execution_count": 1,
     "metadata": {},
     "output_type": "execute_result"
    }
   ],
   "source": [
    "'''\n",
    "Define a function called 'dictionary_creator' to take in two lists and return a dictionary with key:value pair list1:list2.\n",
    "If the two lists are not the same size, return the word \"Error\" instead.\n",
    "'''"
   ]
  },
  {
   "cell_type": "code",
   "execution_count": 2,
   "metadata": {},
   "outputs": [],
   "source": [
    "def dictionary_creator(list1, list2):\n",
    "    if len(list1) == len(list2):\n",
    "        return dict(zip(list1, list2))\n",
    "    else:\n",
    "        return \"Error\""
   ]
  },
  {
   "cell_type": "code",
   "execution_count": null,
   "metadata": {},
   "outputs": [],
   "source": []
  }
 ],
 "metadata": {
  "kernelspec": {
   "display_name": "Python 3",
   "language": "python",
   "name": "python3"
  },
  "language_info": {
   "codemirror_mode": {
    "name": "ipython",
    "version": 3
   },
   "file_extension": ".py",
   "mimetype": "text/x-python",
   "name": "python",
   "nbconvert_exporter": "python",
   "pygments_lexer": "ipython3",
   "version": "3.8.8"
  }
 },
 "nbformat": 4,
 "nbformat_minor": 4
}
